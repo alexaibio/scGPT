{
 "cells": [
  {
   "cell_type": "code",
   "execution_count": 1,
   "id": "097380a3-7bc0-4c8b-9366-9ded561e6094",
   "metadata": {},
   "outputs": [],
   "source": [
    "import sys\n",
    "sys.path.append(\"/home/alex/Projects_py/scGPT\")"
   ]
  },
  {
   "cell_type": "code",
   "execution_count": 2,
   "id": "c2db8935-5e25-4fef-b00b-ad6750df9808",
   "metadata": {
    "scrolled": true
   },
   "outputs": [
    {
     "name": "stderr",
     "output_type": "stream",
     "text": [
      "/home/alex/anaconda3/envs/cuda_scgpt_310/lib/python3.10/site-packages/tqdm/auto.py:21: TqdmWarning: IProgress not found. Please update jupyter and ipywidgets. See https://ipywidgets.readthedocs.io/en/stable/user_install.html\n",
      "  from .autonotebook import tqdm as notebook_tqdm\n"
     ]
    }
   ],
   "source": [
    "import numpy as np\n",
    "import torch\n",
    "import scgpt as scg\n",
    "from scgpt.model import TransformerGenerator\n",
    "from tutorials.alex_perturbation._predict import plot_perturbation, predict\n",
    "from tutorials.alex_perturbation._load_data import (\n",
    "    _load_foundational_vocabulary_add_spec_tokens,\n",
    "    _harmonize_pert_dataset_with_foundational_model,\n",
    "    _load_perturbation_dataset\n",
    ")\n",
    "from tutorials.alex_perturbation._conf_perturb import (\n",
    "    INPT_PAR,\n",
    "    get_foundation_model_parameters,\n",
    "    perts_to_plot\n",
    ")\n",
    "from _conf_perturb import (\n",
    "    TRN_PAR, INPT_PAR, perturbation_data_source, split\n",
    ")\n",
    "from tutorials.alex_perturbation._conf_perturb import device\n",
    "from scgpt.tokenizer.gene_tokenizer import GeneVocab\n",
    "from _utils import get_perturb_folder, get_root_folder"
   ]
  },
  {
   "cell_type": "code",
   "execution_count": 3,
   "id": "0d77d493-7c38-4b86-889f-6f6c96bf59fb",
   "metadata": {},
   "outputs": [],
   "source": [
    "foundational_model_path = get_root_folder() / \"save/scGPT_human\"\n",
    "model_config_file = foundational_model_path / \"args.json\"\n",
    "found_model_file = foundational_model_path / \"best_model.pt\"\n",
    "found_vocab_file = foundational_model_path / \"vocab.json\"\n",
    "\n",
    "# model vocabulary:  60697, gene names: A1BG etc\n",
    "vocab_foundational: GeneVocab = _load_foundational_vocabulary_add_spec_tokens(found_vocab_file)\n"
   ]
  },
  {
   "cell_type": "code",
   "execution_count": 4,
   "id": "ce225975-dfca-4ffa-abfa-254ede11e300",
   "metadata": {},
   "outputs": [
    {
     "name": "stdout",
     "output_type": "stream",
     "text": [
      "scGPT - INFO - Running on 2024-01-09 20:32:07\n"
     ]
    },
    {
     "name": "stderr",
     "output_type": "stream",
     "text": [
      "Found local copy...\n",
      "Local copy of pyg dataset is detected. Loading...\n",
      "Done!\n",
      "Local copy of split is detected. Loading...\n",
      "Simulation split test composition:\n",
      "combo_seen0:0\n",
      "combo_seen1:0\n",
      "combo_seen2:0\n",
      "unseen_single:22\n",
      "Done!\n",
      "Creating dataloaders....\n",
      "Done!\n"
     ]
    },
    {
     "name": "stdout",
     "output_type": "stream",
     "text": [
      "scGPT - INFO - match 4399/5060 genes in vocabulary of size 60697.\n"
     ]
    }
   ],
   "source": [
    "pert_data = _load_perturbation_dataset(perturbation_data_source, split)\n",
    "gene_ids: np.ndarray    # all gene names which are in pert dataset\n",
    "n_genes_pert: int       # num of such genes\n",
    "gene_ids, n_genes_pert, pert_data = _harmonize_pert_dataset_with_foundational_model(pert_data, vocab_foundational)\n"
   ]
  },
  {
   "cell_type": "code",
   "execution_count": 18,
   "id": "a3b90b50-d555-45dd-94d0-8a2f86bf84ec",
   "metadata": {},
   "outputs": [
    {
     "data": {
      "text/html": [
       "<div>\n",
       "<style scoped>\n",
       "    .dataframe tbody tr th:only-of-type {\n",
       "        vertical-align: middle;\n",
       "    }\n",
       "\n",
       "    .dataframe tbody tr th {\n",
       "        vertical-align: top;\n",
       "    }\n",
       "\n",
       "    .dataframe thead th {\n",
       "        text-align: right;\n",
       "    }\n",
       "</style>\n",
       "<table border=\"1\" class=\"dataframe\">\n",
       "  <thead>\n",
       "    <tr style=\"text-align: right;\">\n",
       "      <th></th>\n",
       "      <th>condition</th>\n",
       "      <th>cell_type</th>\n",
       "      <th>dose_val</th>\n",
       "      <th>control</th>\n",
       "      <th>condition_name</th>\n",
       "    </tr>\n",
       "    <tr>\n",
       "      <th>cell_barcode</th>\n",
       "      <th></th>\n",
       "      <th></th>\n",
       "      <th></th>\n",
       "      <th></th>\n",
       "      <th></th>\n",
       "    </tr>\n",
       "  </thead>\n",
       "  <tbody>\n",
       "    <tr>\n",
       "      <th>AAACATACAACCGT-9</th>\n",
       "      <td>HSPA5+ctrl</td>\n",
       "      <td>K562(?)</td>\n",
       "      <td>1+1</td>\n",
       "      <td>0</td>\n",
       "      <td>K562(?)_HSPA5+ctrl_1+1</td>\n",
       "    </tr>\n",
       "    <tr>\n",
       "      <th>AAACATACAAGATG-1</th>\n",
       "      <td>ctrl</td>\n",
       "      <td>K562(?)</td>\n",
       "      <td>1</td>\n",
       "      <td>1</td>\n",
       "      <td>K562(?)_ctrl_1</td>\n",
       "    </tr>\n",
       "    <tr>\n",
       "      <th>AAACATACACACTG-2</th>\n",
       "      <td>ctrl</td>\n",
       "      <td>K562(?)</td>\n",
       "      <td>1</td>\n",
       "      <td>1</td>\n",
       "      <td>K562(?)_ctrl_1</td>\n",
       "    </tr>\n",
       "    <tr>\n",
       "      <th>AAACATACACCGAT-1</th>\n",
       "      <td>CREB1+ctrl</td>\n",
       "      <td>K562(?)</td>\n",
       "      <td>1+1</td>\n",
       "      <td>0</td>\n",
       "      <td>K562(?)_CREB1+ctrl_1+1</td>\n",
       "    </tr>\n",
       "    <tr>\n",
       "      <th>AAACATACACCTAG-1</th>\n",
       "      <td>OST4+ctrl</td>\n",
       "      <td>K562(?)</td>\n",
       "      <td>1+1</td>\n",
       "      <td>0</td>\n",
       "      <td>K562(?)_OST4+ctrl_1+1</td>\n",
       "    </tr>\n",
       "    <tr>\n",
       "      <th>...</th>\n",
       "      <td>...</td>\n",
       "      <td>...</td>\n",
       "      <td>...</td>\n",
       "      <td>...</td>\n",
       "      <td>...</td>\n",
       "    </tr>\n",
       "    <tr>\n",
       "      <th>TTTGCATGTTCCAT-8</th>\n",
       "      <td>ctrl</td>\n",
       "      <td>K562(?)</td>\n",
       "      <td>1</td>\n",
       "      <td>1</td>\n",
       "      <td>K562(?)_ctrl_1</td>\n",
       "    </tr>\n",
       "    <tr>\n",
       "      <th>TTTGCATGTTCTAC-1</th>\n",
       "      <td>ctrl</td>\n",
       "      <td>K562(?)</td>\n",
       "      <td>1</td>\n",
       "      <td>1</td>\n",
       "      <td>K562(?)_ctrl_1</td>\n",
       "    </tr>\n",
       "    <tr>\n",
       "      <th>TTTGCATGTTCTGT-1</th>\n",
       "      <td>ctrl</td>\n",
       "      <td>K562(?)</td>\n",
       "      <td>1</td>\n",
       "      <td>1</td>\n",
       "      <td>K562(?)_ctrl_1</td>\n",
       "    </tr>\n",
       "    <tr>\n",
       "      <th>TTTGCATGTTGTGG-9</th>\n",
       "      <td>DARS+ctrl</td>\n",
       "      <td>K562(?)</td>\n",
       "      <td>1+1</td>\n",
       "      <td>0</td>\n",
       "      <td>K562(?)_DARS+ctrl_1+1</td>\n",
       "    </tr>\n",
       "    <tr>\n",
       "      <th>TTTGCATGTTTACC-3</th>\n",
       "      <td>FARSB+ctrl</td>\n",
       "      <td>K562(?)</td>\n",
       "      <td>1+1</td>\n",
       "      <td>0</td>\n",
       "      <td>K562(?)_FARSB+ctrl_1+1</td>\n",
       "    </tr>\n",
       "  </tbody>\n",
       "</table>\n",
       "<p>68603 rows × 5 columns</p>\n",
       "</div>"
      ],
      "text/plain": [
       "                   condition cell_type dose_val  control  \\\n",
       "cell_barcode                                               \n",
       "AAACATACAACCGT-9  HSPA5+ctrl   K562(?)      1+1        0   \n",
       "AAACATACAAGATG-1        ctrl   K562(?)        1        1   \n",
       "AAACATACACACTG-2        ctrl   K562(?)        1        1   \n",
       "AAACATACACCGAT-1  CREB1+ctrl   K562(?)      1+1        0   \n",
       "AAACATACACCTAG-1   OST4+ctrl   K562(?)      1+1        0   \n",
       "...                      ...       ...      ...      ...   \n",
       "TTTGCATGTTCCAT-8        ctrl   K562(?)        1        1   \n",
       "TTTGCATGTTCTAC-1        ctrl   K562(?)        1        1   \n",
       "TTTGCATGTTCTGT-1        ctrl   K562(?)        1        1   \n",
       "TTTGCATGTTGTGG-9   DARS+ctrl   K562(?)      1+1        0   \n",
       "TTTGCATGTTTACC-3  FARSB+ctrl   K562(?)      1+1        0   \n",
       "\n",
       "                          condition_name  \n",
       "cell_barcode                              \n",
       "AAACATACAACCGT-9  K562(?)_HSPA5+ctrl_1+1  \n",
       "AAACATACAAGATG-1          K562(?)_ctrl_1  \n",
       "AAACATACACACTG-2          K562(?)_ctrl_1  \n",
       "AAACATACACCGAT-1  K562(?)_CREB1+ctrl_1+1  \n",
       "AAACATACACCTAG-1   K562(?)_OST4+ctrl_1+1  \n",
       "...                                  ...  \n",
       "TTTGCATGTTCCAT-8          K562(?)_ctrl_1  \n",
       "TTTGCATGTTCTAC-1          K562(?)_ctrl_1  \n",
       "TTTGCATGTTCTGT-1          K562(?)_ctrl_1  \n",
       "TTTGCATGTTGTGG-9   K562(?)_DARS+ctrl_1+1  \n",
       "TTTGCATGTTTACC-3  K562(?)_FARSB+ctrl_1+1  \n",
       "\n",
       "[68603 rows x 5 columns]"
      ]
     },
     "execution_count": 18,
     "metadata": {},
     "output_type": "execute_result"
    }
   ],
   "source": [
    "obs = pert_data.adata.obs\n",
    "obs.sort_index()"
   ]
  },
  {
   "cell_type": "code",
   "execution_count": 8,
   "id": "e6b69612-241c-46c9-8beb-8a78fcfd4e8e",
   "metadata": {},
   "outputs": [
    {
     "data": {
      "text/plain": [
       "(68603, 5)"
      ]
     },
     "execution_count": 8,
     "metadata": {},
     "output_type": "execute_result"
    }
   ],
   "source": [
    "obs.shape"
   ]
  },
  {
   "cell_type": "code",
   "execution_count": 10,
   "id": "2cafb252-47b6-404a-aea3-91b936199766",
   "metadata": {},
   "outputs": [
    {
     "data": {
      "text/html": [
       "<div>\n",
       "<style scoped>\n",
       "    .dataframe tbody tr th:only-of-type {\n",
       "        vertical-align: middle;\n",
       "    }\n",
       "\n",
       "    .dataframe tbody tr th {\n",
       "        vertical-align: top;\n",
       "    }\n",
       "\n",
       "    .dataframe thead th {\n",
       "        text-align: right;\n",
       "    }\n",
       "</style>\n",
       "<table border=\"1\" class=\"dataframe\">\n",
       "  <thead>\n",
       "    <tr style=\"text-align: right;\">\n",
       "      <th></th>\n",
       "      <th>gene_name</th>\n",
       "      <th>id_in_vocab</th>\n",
       "    </tr>\n",
       "  </thead>\n",
       "  <tbody>\n",
       "    <tr>\n",
       "      <th>ENSG00000228463</th>\n",
       "      <td>AP006222.2</td>\n",
       "      <td>-1</td>\n",
       "    </tr>\n",
       "    <tr>\n",
       "      <th>ENSG00000272438</th>\n",
       "      <td>RP11-54O7.16</td>\n",
       "      <td>1</td>\n",
       "    </tr>\n",
       "    <tr>\n",
       "      <th>ENSG00000230699</th>\n",
       "      <td>RP11-54O7.1</td>\n",
       "      <td>1</td>\n",
       "    </tr>\n",
       "    <tr>\n",
       "      <th>ENSG00000223764</th>\n",
       "      <td>RP11-54O7.3</td>\n",
       "      <td>-1</td>\n",
       "    </tr>\n",
       "    <tr>\n",
       "      <th>ENSG00000187634</th>\n",
       "      <td>SAMD11</td>\n",
       "      <td>1</td>\n",
       "    </tr>\n",
       "    <tr>\n",
       "      <th>...</th>\n",
       "      <td>...</td>\n",
       "      <td>...</td>\n",
       "    </tr>\n",
       "    <tr>\n",
       "      <th>ENSG00000233922</th>\n",
       "      <td>AL133493.2</td>\n",
       "      <td>-1</td>\n",
       "    </tr>\n",
       "    <tr>\n",
       "      <th>ENSG00000142156</th>\n",
       "      <td>COL6A1</td>\n",
       "      <td>1</td>\n",
       "    </tr>\n",
       "    <tr>\n",
       "      <th>ENSG00000228137</th>\n",
       "      <td>AP001469.7</td>\n",
       "      <td>1</td>\n",
       "    </tr>\n",
       "    <tr>\n",
       "      <th>ENSG00000160298</th>\n",
       "      <td>C21orf58</td>\n",
       "      <td>1</td>\n",
       "    </tr>\n",
       "    <tr>\n",
       "      <th>ENSG00000160299</th>\n",
       "      <td>PCNT</td>\n",
       "      <td>1</td>\n",
       "    </tr>\n",
       "  </tbody>\n",
       "</table>\n",
       "<p>5060 rows × 2 columns</p>\n",
       "</div>"
      ],
      "text/plain": [
       "                    gene_name  id_in_vocab\n",
       "ENSG00000228463    AP006222.2           -1\n",
       "ENSG00000272438  RP11-54O7.16            1\n",
       "ENSG00000230699   RP11-54O7.1            1\n",
       "ENSG00000223764   RP11-54O7.3           -1\n",
       "ENSG00000187634        SAMD11            1\n",
       "...                       ...          ...\n",
       "ENSG00000233922    AL133493.2           -1\n",
       "ENSG00000142156        COL6A1            1\n",
       "ENSG00000228137    AP001469.7            1\n",
       "ENSG00000160298      C21orf58            1\n",
       "ENSG00000160299          PCNT            1\n",
       "\n",
       "[5060 rows x 2 columns]"
      ]
     },
     "execution_count": 10,
     "metadata": {},
     "output_type": "execute_result"
    }
   ],
   "source": [
    "var = pert_data.adata.var\n",
    "var"
   ]
  },
  {
   "cell_type": "code",
   "execution_count": 13,
   "id": "b823ab5c-e7b5-4d97-877c-3eac771c4494",
   "metadata": {},
   "outputs": [
    {
     "data": {
      "text/plain": [
       "scipy.sparse._csr.csr_matrix"
      ]
     },
     "execution_count": 13,
     "metadata": {},
     "output_type": "execute_result"
    }
   ],
   "source": [
    "x = pert_data.adata.X\n",
    "type(x)"
   ]
  },
  {
   "cell_type": "code",
   "execution_count": 17,
   "id": "65a348d0-d1fc-4876-a87e-8998f5f6833e",
   "metadata": {},
   "outputs": [
    {
     "data": {
      "text/plain": [
       "array([[0.        , 0.        , 0.        , 0.        , 0.        ,\n",
       "        0.        , 0.        , 0.        , 0.        ],\n",
       "       [0.        , 0.        , 0.        , 0.        , 0.        ,\n",
       "        0.7198251 , 0.        , 0.        , 0.        ],\n",
       "       [0.        , 0.        , 0.        , 0.        , 0.        ,\n",
       "        0.84545773, 0.        , 0.        , 0.        ],\n",
       "       [0.        , 0.        , 0.        , 0.        , 0.9277227 ,\n",
       "        0.        , 0.        , 0.        , 0.        ],\n",
       "       [0.        , 0.        , 0.        , 0.        , 0.        ,\n",
       "        1.3558942 , 0.        , 0.        , 0.        ],\n",
       "       [0.        , 0.        , 0.        , 0.        , 0.        ,\n",
       "        0.882075  , 0.        , 0.        , 0.        ],\n",
       "       [0.        , 0.        , 0.        , 0.        , 1.4457473 ,\n",
       "        0.9641325 , 0.        , 0.        , 0.        ],\n",
       "       [0.        , 0.        , 0.        , 0.        , 0.        ,\n",
       "        0.        , 0.        , 0.        , 0.        ],\n",
       "       [0.        , 0.        , 0.        , 0.        , 0.        ,\n",
       "        0.        , 0.        , 0.        , 0.        ]], dtype=float32)"
      ]
     },
     "execution_count": 17,
     "metadata": {},
     "output_type": "execute_result"
    }
   ],
   "source": [
    "x[1:10, 1:10].toarray()"
   ]
  },
  {
   "cell_type": "code",
   "execution_count": null,
   "id": "a639ab66-b77d-4bc7-8ad6-ba417c164eff",
   "metadata": {},
   "outputs": [],
   "source": []
  }
 ],
 "metadata": {
  "kernelspec": {
   "display_name": "cuda_scgpt_310",
   "language": "python",
   "name": "cuda_scgpt_310"
  },
  "language_info": {
   "codemirror_mode": {
    "name": "ipython",
    "version": 3
   },
   "file_extension": ".py",
   "mimetype": "text/x-python",
   "name": "python",
   "nbconvert_exporter": "python",
   "pygments_lexer": "ipython3",
   "version": "3.10.13"
  }
 },
 "nbformat": 4,
 "nbformat_minor": 5
}
